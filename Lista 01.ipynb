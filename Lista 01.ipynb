{
 "cells": [
  {
   "attachments": {},
   "cell_type": "markdown",
   "metadata": {},
   "source": [
    "# Dinâmica - Lista de Exercícios 01\n",
    "## Aluno: João Alex Arruda da Silva\n",
    "### O conteúdo para estudo pode ser encontrado em: https://github.com/Pi-vi/Aulas_Dinamica"
   ]
  },
  {
   "cell_type": "code",
   "execution_count": 33,
   "metadata": {},
   "outputs": [],
   "source": [
    "import sympy as sy\n",
    "import sympy.physics.mechanics as me\n",
    "from IPython.display import display, Math\n",
    "N = me.ReferenceFrame('N')"
   ]
  },
  {
   "cell_type": "markdown",
   "metadata": {},
   "source": [
    "1- Efetue as seguintes operações vetoriais:"
   ]
  },
  {
   "cell_type": "code",
   "execution_count": 34,
   "metadata": {},
   "outputs": [],
   "source": [
    "# Vetores do Problema 1:\n",
    "V1 = 5*N.x + 7*N.y + 3*N.z\n",
    "V2 = 4*N.x - 3*N.y + 1*N.z\n",
    "V3 = 11*N.x - 5*N.y - 3*N.z"
   ]
  },
  {
   "cell_type": "markdown",
   "metadata": {},
   "source": [
    "(a) $(5 \\hat{\\textbf{n}}_x + 7\\hat{\\textbf{n}}_y + 3\\hat{\\textbf{n}}_z) + (4\\hat{\\textbf{n}}_x - 3\\hat{\\textbf{n}}_y + \\hat{\\textbf{n}}_z)$ <br>"
   ]
  },
  {
   "cell_type": "code",
   "execution_count": 35,
   "metadata": {
    "scrolled": true
   },
   "outputs": [
    {
     "data": {
      "text/latex": [
       "$\\displaystyle 9\\mathbf{\\hat{n}_x} + 4\\mathbf{\\hat{n}_y} + 4\\mathbf{\\hat{n}_z}$"
      ],
      "text/plain": [
       "9*N.x + 4*N.y + 4*N.z"
      ]
     },
     "execution_count": 35,
     "metadata": {},
     "output_type": "execute_result"
    }
   ],
   "source": [
    "V1+V2"
   ]
  },
  {
   "cell_type": "markdown",
   "metadata": {},
   "source": [
    "(b) $(5 \\hat{\\textbf{n}}_x + 7\\hat{\\textbf{n}}_y + 3\\hat{\\textbf{n}}_z) \\cdot (4\\hat{\\textbf{n}}_x - 3\\hat{\\textbf{n}}_y + \\hat{\\textbf{n}}_z)$ <br>"
   ]
  },
  {
   "cell_type": "code",
   "execution_count": 36,
   "metadata": {},
   "outputs": [
    {
     "data": {
      "text/latex": [
       "$\\displaystyle 2$"
      ],
      "text/plain": [
       "2"
      ]
     },
     "execution_count": 36,
     "metadata": {},
     "output_type": "execute_result"
    }
   ],
   "source": [
    "me.dot(V1,V2)"
   ]
  },
  {
   "cell_type": "markdown",
   "metadata": {},
   "source": [
    "(c) $(5 \\hat{\\textbf{n}}_x + 7\\hat{\\textbf{n}}_y + 3\\hat{\\textbf{n}}_z) \\times (4\\hat{\\textbf{n}}_x - 3\\hat{\\textbf{n}}_y + \\hat{\\textbf{n}}_z)$ <br>"
   ]
  },
  {
   "cell_type": "code",
   "execution_count": 37,
   "metadata": {},
   "outputs": [
    {
     "data": {
      "text/latex": [
       "$\\displaystyle 16\\mathbf{\\hat{n}_x} + 7\\mathbf{\\hat{n}_y} - 43\\mathbf{\\hat{n}_z}$"
      ],
      "text/plain": [
       "16*N.x + 7*N.y - 43*N.z"
      ]
     },
     "execution_count": 37,
     "metadata": {},
     "output_type": "execute_result"
    }
   ],
   "source": [
    "me.cross(V1,V2)"
   ]
  },
  {
   "cell_type": "markdown",
   "metadata": {},
   "source": [
    "(d) $(5 \\hat{\\textbf{n}}_x + 7\\hat{\\textbf{n}}_y + 3\\hat{\\textbf{n}}_z) \\times ((4\\hat{\\textbf{n}}_x - 3\\hat{\\textbf{n}}_y + \\hat{\\textbf{n}}_z) \\times (11\\hat{\\textbf{n}}_x - 5\\hat{\\textbf{n}}_y - 3\\hat{\\textbf{n}}_z))$ <br>"
   ]
  },
  {
   "cell_type": "code",
   "execution_count": 38,
   "metadata": {},
   "outputs": [
    {
     "data": {
      "text/latex": [
       "$\\displaystyle 22\\mathbf{\\hat{n}_x} - 23\\mathbf{\\hat{n}_y} + 17\\mathbf{\\hat{n}_z}$"
      ],
      "text/plain": [
       "22*N.x - 23*N.y + 17*N.z"
      ]
     },
     "execution_count": 38,
     "metadata": {},
     "output_type": "execute_result"
    }
   ],
   "source": [
    "me.cross(V1, me.cross(V2,V3))"
   ]
  },
  {
   "cell_type": "markdown",
   "metadata": {},
   "source": [
    "(e) $(5 \\hat{\\textbf{n}}_x + 7\\hat{\\textbf{n}}_y + 3\\hat{\\textbf{n}}_z) \\cdot ((4\\hat{\\textbf{n}}_x - 3\\hat{\\textbf{n}}_y + \\hat{\\textbf{n}}_z) \\times (11\\hat{\\textbf{n}}_x - 5\\hat{\\textbf{n}}_y - 3\\hat{\\textbf{n}}_z))$ <br>"
   ]
  },
  {
   "cell_type": "code",
   "execution_count": 39,
   "metadata": {},
   "outputs": [
    {
     "data": {
      "text/latex": [
       "$\\displaystyle 270$"
      ],
      "text/plain": [
       "270"
      ]
     },
     "execution_count": 39,
     "metadata": {},
     "output_type": "execute_result"
    }
   ],
   "source": [
    "me.dot(V1, me.cross(V2,V3))"
   ]
  },
  {
   "cell_type": "markdown",
   "metadata": {},
   "source": [
    "(f) $2(5 \\hat{\\textbf{n}}_x + 7\\hat{\\textbf{n}}_y + 3\\hat{\\textbf{n}}_z) \\cdot 3(4\\hat{\\textbf{n}}_x - 3\\hat{\\textbf{n}}_y + \\hat{\\textbf{n}}_z)$ <br>"
   ]
  },
  {
   "cell_type": "code",
   "execution_count": 40,
   "metadata": {},
   "outputs": [
    {
     "data": {
      "text/latex": [
       "$\\displaystyle 12$"
      ],
      "text/plain": [
       "12"
      ]
     },
     "execution_count": 40,
     "metadata": {},
     "output_type": "execute_result"
    }
   ],
   "source": [
    "me.dot(2*V1, 3*V2)"
   ]
  },
  {
   "cell_type": "markdown",
   "metadata": {},
   "source": [
    "(g) $3(5 \\hat{\\textbf{n}}_x + 7\\hat{\\textbf{n}}_y + 3\\hat{\\textbf{n}}_z) \\times 5(4\\hat{\\textbf{n}}_x - 3\\hat{\\textbf{n}}_y + \\hat{\\textbf{n}}_z)$ <br>"
   ]
  },
  {
   "cell_type": "code",
   "execution_count": 41,
   "metadata": {},
   "outputs": [
    {
     "data": {
      "text/latex": [
       "$\\displaystyle 240\\mathbf{\\hat{n}_x} + 105\\mathbf{\\hat{n}_y} - 645\\mathbf{\\hat{n}_z}$"
      ],
      "text/plain": [
       "240*N.x + 105*N.y - 645*N.z"
      ]
     },
     "execution_count": 41,
     "metadata": {},
     "output_type": "execute_result"
    }
   ],
   "source": [
    "me.cross(3*V1, 5*V2)"
   ]
  },
  {
   "cell_type": "markdown",
   "metadata": {},
   "source": [
    "2- Obtenha o módulo do vetor $\\textbf{r}_1 = 5\\hat{\\textbf{n}}_x + 7\\hat{\\textbf{n}}_y + 3\\hat{\\textbf{n}}_z$:"
   ]
  },
  {
   "cell_type": "code",
   "execution_count": 42,
   "metadata": {},
   "outputs": [
    {
     "data": {
      "text/latex": [
       "$\\displaystyle \\sqrt{83}$"
      ],
      "text/plain": [
       "sqrt(83)"
      ]
     },
     "execution_count": 42,
     "metadata": {},
     "output_type": "execute_result"
    }
   ],
   "source": [
    "r1 = 5*N.x + 7*N.y + 3*N.z\n",
    "r1.magnitude()"
   ]
  },
  {
   "cell_type": "markdown",
   "metadata": {},
   "source": [
    "3- Obtenha o ângulo formado pelos seguintes vetores: $\\textbf{r}_1 = 5\\hat{\\textbf{n}}_x + 7\\hat{\\textbf{n}}_y + 3\\hat{\\textbf{n}}_z$ e $\\textbf{r}_2 = 4\\hat{\\textbf{n}}_x - 3\\hat{\\textbf{n}}_y + \\hat{\\textbf{n}}_z$:"
   ]
  },
  {
   "cell_type": "code",
   "execution_count": 43,
   "metadata": {},
   "outputs": [
    {
     "data": {
      "text/latex": [
       "$\\displaystyle 87.53°$"
      ],
      "text/plain": [
       "<IPython.core.display.Math object>"
      ]
     },
     "metadata": {},
     "output_type": "display_data"
    },
    {
     "data": {
      "text/latex": [
       "$\\displaystyle 1.5277 \\space rad$"
      ],
      "text/plain": [
       "<IPython.core.display.Math object>"
      ]
     },
     "metadata": {},
     "output_type": "display_data"
    }
   ],
   "source": [
    "r2 = 4*N.x - 3*N.y + 1*N.z\n",
    "from math import degrees, radians\n",
    "ang = degrees(sy.acos(me.dot(r1,r2)/(r1.magnitude()*r2.magnitude())))\n",
    "display(Math(f'{ang:.2f}°'))\n",
    "display(Math(f'{radians(ang):.4f} \\space rad'))"
   ]
  },
  {
   "cell_type": "markdown",
   "metadata": {},
   "source": [
    "4- Obtenha o vetor unitário que possui a mesma direção e sentido que o vetor $\\textbf{r}_3 = 8\\hat{\\textbf{n}}_x + 13\\hat{\\textbf{n}}_y - 14\\hat{\\textbf{n}}_z$:"
   ]
  },
  {
   "cell_type": "code",
   "execution_count": 44,
   "metadata": {},
   "outputs": [
    {
     "data": {
      "text/latex": [
       "$\\displaystyle \\frac{8 \\sqrt{429}}{429}\\mathbf{\\hat{n}_x} + \\frac{\\sqrt{429}}{33}\\mathbf{\\hat{n}_y} -  \\frac{14 \\sqrt{429}}{429}\\mathbf{\\hat{n}_z}$"
      ],
      "text/plain": [
       "8*sqrt(429)/429*N.x + sqrt(429)/33*N.y - 14*sqrt(429)/429*N.z"
      ]
     },
     "execution_count": 44,
     "metadata": {},
     "output_type": "execute_result"
    }
   ],
   "source": [
    "r3 = 8*N.x + 13*N.y - 14*N.z\n",
    "r3/r3.magnitude()"
   ]
  },
  {
   "cell_type": "markdown",
   "metadata": {},
   "source": [
    "5- Obtenha um vetor unitário perpendicular aos vetores: $\\textbf{r}_1 = 3\\hat{\\textbf{n}}_x + 14\\hat{\\textbf{n}}_y + 2\\hat{\\textbf{n}}_z$ e $\\textbf{r}_2 = 5\\hat{\\textbf{n}}_x - 2\\hat{\\textbf{n}}_y - 3\\hat{\\textbf{n}}_z$:"
   ]
  },
  {
   "cell_type": "code",
   "execution_count": 45,
   "metadata": {},
   "outputs": [
    {
     "data": {
      "text/latex": [
       "$\\displaystyle -  \\frac{2 \\sqrt{21}}{21}\\mathbf{\\hat{n}_x} + \\frac{\\sqrt{21}}{21}\\mathbf{\\hat{n}_y} -  \\frac{4 \\sqrt{21}}{21}\\mathbf{\\hat{n}_z}$"
      ],
      "text/plain": [
       "- 2*sqrt(21)/21*N.x + sqrt(21)/21*N.y - 4*sqrt(21)/21*N.z"
      ]
     },
     "execution_count": 45,
     "metadata": {},
     "output_type": "execute_result"
    }
   ],
   "source": [
    "r1 = 3*N.x + 14*N.y + 2*N.z\n",
    "r2 = 5*N.x - 2*N.y - 3*N.z\n",
    "me.cross(r1,r2)/me.cross(r1,r2).magnitude()"
   ]
  },
  {
   "cell_type": "markdown",
   "metadata": {},
   "source": [
    "6- Seja $\\textbf{r}_1 = x^2\\hat{\\textbf{n}}_x + 14x\\hat{\\textbf{n}}_y + 2\\hat{\\textbf{n}}_z$, obteha $\\dfrac{{}^{N}\\partial \\textbf{r}_1}{\\partial x}$:"
   ]
  },
  {
   "cell_type": "code",
   "execution_count": 46,
   "metadata": {},
   "outputs": [
    {
     "data": {
      "text/latex": [
       "$\\displaystyle 2 x\\mathbf{\\hat{n}_x} + 14\\mathbf{\\hat{n}_y}$"
      ],
      "text/plain": [
       "2*x*N.x + 14*N.y"
      ]
     },
     "execution_count": 46,
     "metadata": {},
     "output_type": "execute_result"
    }
   ],
   "source": [
    "x = sy.symbols('x')\n",
    "r1 = x**2*N.x + 14*x*N.y + 2*N.z\n",
    "sy.diff(r1, x, N)"
   ]
  }
 ],
 "metadata": {
  "kernelspec": {
   "display_name": "Python 3",
   "language": "python",
   "name": "python3"
  },
  "language_info": {
   "codemirror_mode": {
    "name": "ipython",
    "version": 3
   },
   "file_extension": ".py",
   "mimetype": "text/x-python",
   "name": "python",
   "nbconvert_exporter": "python",
   "pygments_lexer": "ipython3",
   "version": "3.10.10"
  }
 },
 "nbformat": 4,
 "nbformat_minor": 4
}
